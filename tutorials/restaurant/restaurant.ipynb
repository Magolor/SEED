{
 "cells": [
  {
   "cell_type": "markdown",
   "metadata": {},
   "source": [
    "First, we can create a new project and prepare the dataset in `.jsonl` format.\n",
    "We have already placed the required data files in advance. So now we can directly proceed."
   ]
  },
  {
   "cell_type": "code",
   "execution_count": null,
   "metadata": {},
   "outputs": [],
   "source": [
    "from seed import *\n",
    "CreateProject(name=\"pubmed\", workspace=\"../\")\n",
    "# Prepare data as `.jsonl` files if not exists"
   ]
  },
  {
   "cell_type": "markdown",
   "metadata": {},
   "source": [
    "After creating the project, a defult `config.json` is located under the projects' root folder, we can modify it to fit for our entity resolution task.\n",
    "The most important parameters are `name`, `task_desc`, `inputs`, `outputs`, `evaluation_metric` and `evaluation_path`, which should be defined by the user and should be application-specific.\n",
    "Here we directly choose a relatively balanced good config."
   ]
  },
  {
   "cell_type": "code",
   "execution_count": null,
   "metadata": {},
   "outputs": [],
   "source": [
    "config = LoadJson(\"config.json\")\n",
    "config = config | {\n",
    "    \"name\": \"data_imputation\",\n",
    "    \"task_desc\": \"Given a restaurant's information, deduce the city it is located in.\",\n",
    "    \"inputs\": [\n",
    "        {\n",
    "            \"name\": \"name\",\n",
    "            \"type\": \"str\",\n",
    "            \"desc\": \"The name of the restaurant.\"\n",
    "        },\n",
    "        {\n",
    "            \"name\": \"addr\",\n",
    "            \"type\": \"str\",\n",
    "            \"desc\": \"The address of the restaurant.\"\n",
    "        },\n",
    "        {\n",
    "            \"name\": \"phone\",\n",
    "            \"type\": \"str\",\n",
    "            \"desc\": \"The phone number of the restaurant.\"\n",
    "        },\n",
    "        {\n",
    "            \"name\": \"type\",\n",
    "            \"type\": \"str\",\n",
    "            \"desc\": \"The food type of the restaurant.\"\n",
    "        }\n",
    "    ],\n",
    "    \"outputs\": [\n",
    "        {\n",
    "            \"name\": \"city\",\n",
    "            \"type\": \"str\",\n",
    "            \"desc\": \"The city the restaurant is located in.\",\n",
    "            \"default\": \"nan\"\n",
    "        }\n",
    "    ],\n",
    "    \"evaluation_metric\": \"fuzzy_str_accuracy\",\n",
    "    \"evaluation_path\": \"./data/Restaurant.jsonl\",\n",
    "    \"examples_path\": \"./data/Restaurant.jsonl\",\n",
    "    \n",
    "    \"activate_cache\": False,\n",
    "    \n",
    "    \"activate_model\": False,\n",
    "    \n",
    "    \"activate_codeg\": True,\n",
    "    \"codeg_examples_path\": \"./data/Restaurant.jsonl\",\n",
    "    \"codeg_examples_mode\": \"sample\",\n",
    "    \"codeg_examples_count\": 2,\n",
    "    \"codev_examples_manual\": [],\n",
    "    \"codev_examples_path\": \"./data/Restaurant.jsonl\",\n",
    "    \"codev_examples_mode\": \"sample\",\n",
    "    \"codev_examples_count\": 30,\n",
    "    \n",
    "    \"activate_tools\": False,\n",
    "    \n",
    "    \"activate_llmqa\": True,\n",
    "    \"examples_mode\": \"balanced\",\n",
    "    \"examples_count\": 8,\n",
    "}"
   ]
  },
  {
   "cell_type": "markdown",
   "metadata": {},
   "source": [
    "Now, we can directly compile the config to get a working solution."
   ]
  },
  {
   "cell_type": "code",
   "execution_count": null,
   "metadata": {},
   "outputs": [],
   "source": [
    "SaveJson(config, \"config.json\")\n",
    "CompileProject(\"./\")\n",
    "from evaluation import *\n",
    "evaluate_data_imputation()"
   ]
  },
  {
   "cell_type": "code",
   "execution_count": null,
   "metadata": {},
   "outputs": [],
   "source": [
    "PrintJson(LoadJson(\"profile.json\"))"
   ]
  }
 ],
 "metadata": {
  "kernelspec": {
   "display_name": "py39",
   "language": "python",
   "name": "python3"
  },
  "language_info": {
   "codemirror_mode": {
    "name": "ipython",
    "version": 3
   },
   "file_extension": ".py",
   "mimetype": "text/x-python",
   "name": "python",
   "nbconvert_exporter": "python",
   "pygments_lexer": "ipython3",
   "version": "3.9.16"
  }
 },
 "nbformat": 4,
 "nbformat_minor": 2
}
