{
 "cells": [
  {
   "cell_type": "markdown",
   "metadata": {},
   "source": [
    "First, we can create a new project and prepare the dataset in `.jsonl` format.\n",
    "We have already placed the required data files in advance. So now we can directly proceed."
   ]
  },
  {
   "cell_type": "code",
   "execution_count": null,
   "metadata": {},
   "outputs": [],
   "source": [
    "from seed import *\n",
    "CreateProject(name=\"amazon_google\", workspace=\"../\")\n",
    "# Prepare data as `.jsonl` files if not exists"
   ]
  },
  {
   "cell_type": "markdown",
   "metadata": {},
   "source": [
    "After creating the project, a defult `config.json` is located under the projects' root folder, we can modify it to fit for our entity resolution task.\n",
    "The most important parameters are `name`, `task_desc`, `inputs`, `outputs`, `evaluation_metric` and `evaluation_path`, which should be defined by the user and should be application-specific.\n",
    "Here we use only the `Amazon-Google_demo.jsonl` dataset for ease of running.\n",
    "Here we directly choose a relatively balanced good config."
   ]
  },
  {
   "cell_type": "code",
   "execution_count": null,
   "metadata": {},
   "outputs": [],
   "source": [
    "config = LoadJson(\"config.json\")\n",
    "config = config | {\n",
    "    \"name\": \"entity_resolution\",\n",
    "    \"task_desc\": \"Given two products, determine whether they are identical product.\",\n",
    "    \"inputs\": [\n",
    "        {\n",
    "            \"name\": \"entity1\",\n",
    "            \"type\": \"dict\",\n",
    "            \"desc\": \"It contains three attributes: `title`, `manufacturer`, `price`. `title` and `manufacturer` are strings, `price` is float.\"\n",
    "        },\n",
    "        {\n",
    "            \"name\": \"entity2\",\n",
    "            \"type\": \"dict\",\n",
    "            \"desc\": \"Same as entity1.\"\n",
    "        }\n",
    "    ],\n",
    "    \"outputs\": [\n",
    "        {\n",
    "            \"name\": \"is_same\",\n",
    "            \"type\": \"bool\",\n",
    "            \"desc\": \"0 if the two product are not identical, 1 of the two products are identical.\",\n",
    "            \"default\": 0\n",
    "        }\n",
    "    ],\n",
    "    \"evaluation_metric\": \"f1\",\n",
    "    \"evaluation_path\": \"./data/Amazon-Google_demo.jsonl\",\n",
    "    \"examples_path\": \"./data/Amazon-Google_valid.jsonl\",\n",
    "    \"labelled_path\": \"./data/Amazon-Google_train.jsonl\",\n",
    "    \n",
    "    \"activate_cache\": True,\n",
    "    \"cache_frozen_ckpt\": \"./ckpts/amazon_google\",\n",
    "    \"cache_confidence_ratio\": 0.8,\n",
    "    \n",
    "    \"activate_model\": True,\n",
    "    \"model_type\": \"AutoModelForSequenceClassification\",\n",
    "    \"model_initial_ckpt\": \"./ckpts/amazon_google\",\n",
    "    \"model_confidence_ratio\": 0.6,\n",
    "    \"model_confidence_default\": 0.8,\n",
    "    \"model_sync_off\": True,\n",
    "    \"model_sync_confi\": 512,\n",
    "    \n",
    "    \"activate_codeg\": False,\n",
    "    \n",
    "    \"activate_tools\": False,\n",
    "    \n",
    "    \"activate_llmqa\": True,\n",
    "    \"examples_mode\": \"balanced\",\n",
    "}"
   ]
  },
  {
   "cell_type": "markdown",
   "metadata": {},
   "source": [
    "In this example, as we have labelled data, we can finetune a model using the labelled data, which can be then used by the `cache` and `model` agent."
   ]
  },
  {
   "cell_type": "code",
   "execution_count": null,
   "metadata": {},
   "outputs": [],
   "source": [
    "! python train_model.py"
   ]
  },
  {
   "cell_type": "markdown",
   "metadata": {},
   "source": [
    "Now, we can directly compile the config to get a working solution."
   ]
  },
  {
   "cell_type": "code",
   "execution_count": null,
   "metadata": {},
   "outputs": [],
   "source": [
    "SaveJson(config, \"config.json\")\n",
    "CompileProject(\"./\")\n",
    "from evaluation import *\n",
    "evaluate_entity_resolution()"
   ]
  },
  {
   "cell_type": "code",
   "execution_count": null,
   "metadata": {},
   "outputs": [],
   "source": [
    "PrintJson(LoadJson(\"profile.json\"))"
   ]
  }
 ],
 "metadata": {
  "kernelspec": {
   "display_name": "py39",
   "language": "python",
   "name": "python3"
  },
  "language_info": {
   "codemirror_mode": {
    "name": "ipython",
    "version": 3
   },
   "file_extension": ".py",
   "mimetype": "text/x-python",
   "name": "python",
   "nbconvert_exporter": "python",
   "pygments_lexer": "ipython3",
   "version": "3.9.16"
  }
 },
 "nbformat": 4,
 "nbformat_minor": 2
}
