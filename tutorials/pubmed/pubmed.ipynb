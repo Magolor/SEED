{
 "cells": [
  {
   "cell_type": "markdown",
   "metadata": {},
   "source": [
    "First, we can create a new project and prepare the dataset in `.jsonl` format.\n",
    "We have already placed the required data files in advance. So now we can directly proceed."
   ]
  },
  {
   "cell_type": "code",
   "execution_count": null,
   "metadata": {},
   "outputs": [],
   "source": [
    "from seed import *\n",
    "CreateProject(name=\"pubmed\", workspace=\"../\")\n",
    "# Prepare data as `.jsonl` files if not exists"
   ]
  },
  {
   "cell_type": "markdown",
   "metadata": {},
   "source": [
    "After creating the project, a defult `config.json` is located under the projects' root folder, we can modify it to fit for our entity resolution task.\n",
    "The most important parameters are `name`, `task_desc`, `inputs`, `outputs`, `evaluation_metric` and `evaluation_path`, which should be defined by the user and should be application-specific.\n",
    "Here we directly choose a relatively balanced good config."
   ]
  },
  {
   "cell_type": "code",
   "execution_count": null,
   "metadata": {},
   "outputs": [],
   "source": [
    "config = LoadJson(\"config.json\")\n",
    "config = config | {\n",
    "    \"name\": \"medical_relation\",\n",
    "    \"task_desc\": \"Given a medical sentence and two medical entities, determine whether a medical relation exists between the two entities.\",\n",
    "    \"inputs\": [\n",
    "        {\n",
    "            \"name\": \"sentence\",\n",
    "            \"type\": \"str\",\n",
    "            \"desc\": \"The medical sentence.\"\n",
    "        },\n",
    "        {\n",
    "            \"name\": \"term1\",\n",
    "            \"type\": \"str\",\n",
    "            \"desc\": \"The subject of relation (if exists).\"\n",
    "        },\n",
    "        {\n",
    "            \"name\": \"term2\",\n",
    "            \"type\": \"str\",\n",
    "            \"desc\": \"The object of relation (if exists).\"\n",
    "        }\n",
    "    ],\n",
    "    \"outputs\": [\n",
    "        {\n",
    "            \"name\": \"relation\",\n",
    "            \"type\": \"str\",\n",
    "            \"desc\": \"The relation is one of 'treats', 'causes', 'contraindicates', 'is diagnosed by', 'diagnose_by_test_or_drug', 'location', 'is location of', and 'no_relation'.\",\n",
    "            \"default\": \"no_relation\",\n",
    "            \"verbalizer\": [\n",
    "                \"treats\",\n",
    "                \"causes\",\n",
    "                \"contraindicates\",\n",
    "                \"is diagnosed by\",\n",
    "                \"diagnose_by_test_or_drug\",\n",
    "                \"location\",\n",
    "                \"is location of\",\n",
    "                \"no_relation\"\n",
    "            ],\n",
    "            \"deverbalizer\": {\n",
    "                \"treats\": 0,\n",
    "                \"causes\": 1,\n",
    "                \"contraindicates\": 2,\n",
    "                \"is diagnosed by\": 3,\n",
    "                \"diagnose_by_test_or_drug\": 4,\n",
    "                \"location\": 5,\n",
    "                \"is location of\": 6,\n",
    "                \"no_relation\": 7\n",
    "            }\n",
    "        }\n",
    "    ],\n",
    "    \"evaluation_metric\": \"obj_accuracy\",\n",
    "    \"evaluation_path\": \"./data/PubMed.jsonl\",\n",
    "    \"examples_path\": \"./data/PubMed_valid.jsonl\",\n",
    "    \"labelled_path\": \"./data/PubMed_train.jsonl\",\n",
    "    \n",
    "    \"activate_cache\": True,\n",
    "    \"cache_frozen_ckpt\": \"./ckpts/pubmed\",\n",
    "    \"cache_confidence_ratio\": 0.8,\n",
    "    \n",
    "    \"activate_model\": True,\n",
    "    \"model_type\": \"AutoModelForSequenceClassification\",\n",
    "    \"model_initial_ckpt\": \"./ckpts/pubmed\",\n",
    "    \"model_confidence_ratio\": 0.5,\n",
    "    \"model_confidence_default\": 1.0,\n",
    "    \"model_sync_off\": True,\n",
    "    \"model_args\": {\n",
    "        \"num_labels\": 8\n",
    "    },\n",
    "    \n",
    "    \"activate_codeg\": False,\n",
    "    \n",
    "    \"activate_tools\": False,\n",
    "    \n",
    "    \"activate_llmqa\": True,\n",
    "    \"examples_mode\": \"balanced\",\n",
    "    \"examples_count\": 8,\n",
    "}"
   ]
  },
  {
   "cell_type": "markdown",
   "metadata": {},
   "source": [
    "In this example, as we have labelled data, we can finetune a model using the labelled data, which can be then used by the `cache` and `model` agent."
   ]
  },
  {
   "cell_type": "code",
   "execution_count": null,
   "metadata": {},
   "outputs": [],
   "source": [
    "! python train_model.py"
   ]
  },
  {
   "cell_type": "markdown",
   "metadata": {},
   "source": [
    "Now, we can directly compile the config to get a working solution."
   ]
  },
  {
   "cell_type": "code",
   "execution_count": null,
   "metadata": {},
   "outputs": [],
   "source": [
    "SaveJson(config, \"config.json\")\n",
    "CompileProject(\"./\")\n",
    "from evaluation import *\n",
    "evaluate_medical_relation()"
   ]
  },
  {
   "cell_type": "code",
   "execution_count": null,
   "metadata": {},
   "outputs": [],
   "source": [
    "PrintJson(LoadJson(\"profile.json\"))"
   ]
  }
 ],
 "metadata": {
  "kernelspec": {
   "display_name": "py39",
   "language": "python",
   "name": "python3"
  },
  "language_info": {
   "codemirror_mode": {
    "name": "ipython",
    "version": 3
   },
   "file_extension": ".py",
   "mimetype": "text/x-python",
   "name": "python",
   "nbconvert_exporter": "python",
   "pygments_lexer": "ipython3",
   "version": "3.9.16"
  }
 },
 "nbformat": 4,
 "nbformat_minor": 2
}
